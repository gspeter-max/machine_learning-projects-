{
 "cells": [
  {
   "cell_type": "code",
   "execution_count": 7,
   "metadata": {},
   "outputs": [
    {
     "name": "stderr",
     "output_type": "stream",
     "text": [
      "25/03/26 15:04:53 WARN SparkSession: Using an existing Spark session; only runtime SQL configurations will take effect.\n",
      "                                                                                \r"
     ]
    },
    {
     "name": "stdout",
     "output_type": "stream",
     "text": [
      "+-----------+---+------+-------+--------------------+--------------------+-----------+--------------+---------------+---------------------+-------------------+----------------+-------------+-----------+----------------------+\n",
      "|customer_id|age|gender|country|         signup_date|          last_login|total_spent|purchase_count|avg_order_value|cart_abandonment_rate|discount_usage_rate|product_category|loyalty_score|return_rate|customer_service_calls|\n",
      "+-----------+---+------+-------+--------------------+--------------------+-----------+--------------+---------------+---------------------+-------------------+----------------+-------------+-----------+----------------------+\n",
      "|          1| 56|Female|    USA|2020-06-22 09:41:...|2021-02-07 09:41:...|    1375.76|            27|          50.95|                  0.2|               0.05|        Clothing|        27.26|       0.03|                     0|\n",
      "|          2| 69|Female|    USA|2021-07-11 09:41:...|2021-11-27 09:41:...|     292.14|             5|          58.43|                 0.08|               0.01|  Home & Kitchen|         5.42|       0.48|                     5|\n",
      "|          3| 46|  Male|    USA|2021-03-13 09:41:...|2021-12-08 09:41:...|     183.25|             3|          61.08|                 0.09|               0.01|  Home & Kitchen|         3.33|       0.14|                     0|\n",
      "|          4| 32|Female|  India|2021-03-10 09:41:...|2022-01-28 09:41:...|     448.94|             8|          56.12|                 0.25|               0.01|     Electronics|         8.49|       0.54|                     1|\n",
      "|          5| 60|  Male|    USA|2020-09-15 09:41:...|2021-06-05 09:41:...|      11.63|             1|          11.63|                  0.4|                0.0|     Electronics|         0.62|       0.18|                     1|\n",
      "|          6| 25|Female|Germany|2024-01-19 09:41:...|2024-08-27 09:41:...|    1094.38|            21|          52.11|                 0.25|               0.05|  Home & Kitchen|        21.44|       0.11|                     2|\n",
      "|          7| 38|Female|    USA|2023-06-06 09:41:...|2024-03-11 09:41:...|     209.84|             4|          52.46|                 0.06|                0.0|           Books|          4.1|       0.34|                     2|\n",
      "|          8| 56|Female|    USA|2024-10-02 09:41:...|2025-04-29 09:41:...|    1532.88|            30|           51.1|                 0.67|               0.03|     Electronics|        30.33|       0.31|                     1|\n",
      "|          9| 36|  Male|Germany|2024-07-05 09:41:...|2025-06-27 09:41:...|    1401.22|            28|          50.04|                 0.39|               0.07|          Beauty|        28.01|       0.27|                     2|\n",
      "|         10| 40|Female|  India|2023-01-13 09:41:...|2023-01-22 09:41:...|      26.43|             1|          26.43|                 0.45|                0.0|          Beauty|         0.76|       0.06|                     0|\n",
      "|         11| 28|Female|  India|2023-02-14 09:41:...|2023-06-23 09:41:...|     1420.5|            28|          50.73|                  0.1|               0.06|        Clothing|        28.21|       0.59|                     1|\n",
      "|         12| 28|Female|    USA|2021-01-20 09:41:...|2021-08-03 09:41:...|      504.5|            10|          50.45|                 0.69|               0.01|          Beauty|        10.04|       0.06|                     0|\n",
      "|         13| 41|Female|    USA|2023-12-19 09:41:...|2024-07-28 09:41:...|     615.84|            12|          51.32|                 0.03|               0.01|          Beauty|        12.16|       0.21|                     0|\n",
      "|         14| 70|Female|Germany|2021-02-14 09:41:...|2021-08-25 09:41:...|    1244.87|            24|          51.87|                 0.32|               0.04|           Books|        24.45|       0.04|                     0|\n",
      "|         15| 53|  Male|  India|2024-09-17 09:41:...|2025-08-11 09:41:...|     175.79|             3|           58.6|                 0.46|                0.0|  Home & Kitchen|         3.26|       0.02|                     0|\n",
      "|         16| 57|Female|    USA|2022-08-17 09:41:...|2022-11-30 09:41:...|     321.09|             6|          53.51|                 0.05|               0.01|     Electronics|         6.21|       0.77|                     3|\n",
      "|         17| 41|  Male|    USA|2021-06-13 09:41:...|2021-07-29 09:41:...|     172.56|             3|          57.52|                 0.12|                0.0|        Clothing|         3.23|       0.45|                     2|\n",
      "|         18| 20|  Male|    USA|2022-10-14 09:41:...|2023-09-09 09:41:...|     127.05|             2|          63.52|                 0.13|                0.0|  Home & Kitchen|         2.27|       0.42|                     1|\n",
      "|         19| 39|  Male|Germany|2022-07-16 09:41:...|2022-12-09 09:41:...|    1447.23|            28|          51.69|                 0.05|               0.08|        Clothing|        28.47|        0.1|                     0|\n",
      "|         20| 70|Female|  India|2023-02-11 09:41:...|2024-01-13 09:41:...|     146.82|             2|          73.41|                 0.57|                0.0|     Electronics|         2.47|       0.36|                     6|\n",
      "+-----------+---+------+-------+--------------------+--------------------+-----------+--------------+---------------+---------------------+-------------------+----------------+-------------+-----------+----------------------+\n",
      "only showing top 20 rows\n",
      "\n"
     ]
    }
   ],
   "source": [
    "from  pyspark.sql import SparkSession \n",
    "\n",
    "spark = SparkSession.builder.appName('featurs').getOrCreate()\n",
    "\n",
    "df = spark.read.csv('/workspaces/machine_learning-projects-/pending_work/second_task/ecommerce_customer_data.csv', header = True,\n",
    "                    inferSchema = True)\n",
    "\n",
    "df.show()"
   ]
  },
  {
   "cell_type": "code",
   "execution_count": 8,
   "metadata": {},
   "outputs": [
    {
     "name": "stdout",
     "output_type": "stream",
     "text": [
      "root\n",
      " |-- customer_id: integer (nullable = true)\n",
      " |-- age: integer (nullable = true)\n",
      " |-- gender: string (nullable = true)\n",
      " |-- country: string (nullable = true)\n",
      " |-- signup_date: timestamp (nullable = true)\n",
      " |-- last_login: timestamp (nullable = true)\n",
      " |-- total_spent: double (nullable = true)\n",
      " |-- purchase_count: integer (nullable = true)\n",
      " |-- avg_order_value: double (nullable = true)\n",
      " |-- cart_abandonment_rate: double (nullable = true)\n",
      " |-- discount_usage_rate: double (nullable = true)\n",
      " |-- product_category: string (nullable = true)\n",
      " |-- loyalty_score: double (nullable = true)\n",
      " |-- return_rate: double (nullable = true)\n",
      " |-- customer_service_calls: integer (nullable = true)\n",
      "\n"
     ]
    },
    {
     "name": "stderr",
     "output_type": "stream",
     "text": [
      "                                                                                \r"
     ]
    },
    {
     "name": "stdout",
     "output_type": "stream",
     "text": [
      "+-------+---------+-----------+---+------+--------------------+--------------------+-----------+--------------+---------------+---------------------+-------------------+----------------+-------------+-----------+----------------------+---------------------+-------------------------+---------------+------------------+-------------------------+------------------+----------------------------------+-------+------------------------+--------------------------------+\n",
      "|country|age_range|customer_id|age|gender|         signup_date|          last_login|total_spent|purchase_count|avg_order_value|cart_abandonment_rate|discount_usage_rate|product_category|loyalty_score|return_rate|customer_service_calls|days_since_last_login|avg_days_since_last_login|exceeds_own_avg| avg_country_spend|exceeds_country_avg_spend|  avg_country_days|exceeds_country_avg_days_and_spend|is_rich|avg_country_age_purchase|exceeds_country_age_avg_purchase|\n",
      "+-------+---------+-----------+---+------+--------------------+--------------------+-----------+--------------+---------------+---------------------+-------------------+----------------+-------------+-----------+----------------------+---------------------+-------------------------+---------------+------------------+-------------------------+------------------+----------------------------------+-------+------------------------+--------------------------------+\n",
      "|    USA|    adult|          1| 56|Female|2020-06-22 09:41:...|2021-02-07 09:41:...|    1375.76|            27|          50.95|                  0.2|               0.05|        Clothing|        27.26|       0.03|                     0|                  230|                    230.0|              0| 502.4622343921152|                        1|182.85024395101067|                                 1|      0|       9.643664448072334|                               1|\n",
      "|    USA|    older|          2| 69|Female|2021-07-11 09:41:...|2021-11-27 09:41:...|     292.14|             5|          58.43|                 0.08|               0.01|  Home & Kitchen|         5.42|       0.48|                     5|                  139|                    139.0|              0| 502.4622343921152|                        0|182.85024395101067|                                 0|      0|       9.660817307692307|                               0|\n",
      "|    USA|    adult|          3| 46|  Male|2021-03-13 09:41:...|2021-12-08 09:41:...|     183.25|             3|          61.08|                 0.09|               0.01|  Home & Kitchen|         3.33|       0.14|                     0|                  270|                    270.0|              0| 502.4622343921152|                        0|182.85024395101067|                                 0|      0|       9.643664448072334|                               0|\n",
      "|  India|    adult|          4| 32|Female|2021-03-10 09:41:...|2022-01-28 09:41:...|     448.94|             8|          56.12|                 0.25|               0.01|     Electronics|         8.49|       0.54|                     1|                  324|                    324.0|              0|502.88953318449217|                        0|184.24639740207022|                                 0|      0|        9.75801302515643|                               0|\n",
      "|    USA|    older|          5| 60|  Male|2020-09-15 09:41:...|2021-06-05 09:41:...|      11.63|             1|          11.63|                  0.4|                0.0|     Electronics|         0.62|       0.18|                     1|                  263|                    263.0|              0| 502.4622343921152|                        0|182.85024395101067|                                 0|      0|       9.660817307692307|                               0|\n",
      "|Germany|    adult|          6| 25|Female|2024-01-19 09:41:...|2024-08-27 09:41:...|    1094.38|            21|          52.11|                 0.25|               0.05|  Home & Kitchen|        21.44|       0.11|                     2|                  221|                    221.0|              0|507.84416844971827|                        1|185.58296051351877|                                 1|      0|        9.87305891052502|                               1|\n",
      "|    USA|    adult|          7| 38|Female|2023-06-06 09:41:...|2024-03-11 09:41:...|     209.84|             4|          52.46|                 0.06|                0.0|           Books|          4.1|       0.34|                     2|                  279|                    279.0|              0| 502.4622343921152|                        0|182.85024395101067|                                 0|      0|       9.643664448072334|                               0|\n",
      "|    USA|    adult|          8| 56|Female|2024-10-02 09:41:...|2025-04-29 09:41:...|    1532.88|            30|           51.1|                 0.67|               0.03|     Electronics|        30.33|       0.31|                     1|                  209|                    209.0|              0| 502.4622343921152|                        1|182.85024395101067|                                 1|      0|       9.643664448072334|                               1|\n",
      "|Germany|    adult|          9| 36|  Male|2024-07-05 09:41:...|2025-06-27 09:41:...|    1401.22|            28|          50.04|                 0.39|               0.07|          Beauty|        28.01|       0.27|                     2|                  357|                    357.0|              0|507.84416844971827|                        1|185.58296051351877|                                 1|      0|        9.87305891052502|                               1|\n",
      "|  India|    adult|         10| 40|Female|2023-01-13 09:41:...|2023-01-22 09:41:...|      26.43|             1|          26.43|                 0.45|                0.0|          Beauty|         0.76|       0.06|                     0|                    9|                      9.0|              0|502.88953318449217|                        0|184.24639740207022|                                 0|      0|        9.75801302515643|                               0|\n",
      "|  India|    adult|         11| 28|Female|2023-02-14 09:41:...|2023-06-23 09:41:...|     1420.5|            28|          50.73|                  0.1|               0.06|        Clothing|        28.21|       0.59|                     1|                  129|                    129.0|              0|502.88953318449217|                        1|184.24639740207022|                                 0|      0|        9.75801302515643|                               1|\n",
      "|    USA|    adult|         12| 28|Female|2021-01-20 09:41:...|2021-08-03 09:41:...|      504.5|            10|          50.45|                 0.69|               0.01|          Beauty|        10.04|       0.06|                     0|                  195|                    195.0|              0| 502.4622343921152|                        1|182.85024395101067|                                 1|      0|       9.643664448072334|                               1|\n",
      "|    USA|    adult|         13| 41|Female|2023-12-19 09:41:...|2024-07-28 09:41:...|     615.84|            12|          51.32|                 0.03|               0.01|          Beauty|        12.16|       0.21|                     0|                  222|                    222.0|              0| 502.4622343921152|                        1|182.85024395101067|                                 1|      0|       9.643664448072334|                               1|\n",
      "|Germany|    older|         14| 70|Female|2021-02-14 09:41:...|2021-08-25 09:41:...|    1244.87|            24|          51.87|                 0.32|               0.04|           Books|        24.45|       0.04|                     0|                  192|                    192.0|              0|507.84416844971827|                        1|185.58296051351877|                                 1|      0|       9.345940959409594|                               1|\n",
      "|  India|    adult|         15| 53|  Male|2024-09-17 09:41:...|2025-08-11 09:41:...|     175.79|             3|           58.6|                 0.46|                0.0|  Home & Kitchen|         3.26|       0.02|                     0|                  328|                    328.0|              0|502.88953318449217|                        0|184.24639740207022|                                 0|      0|        9.75801302515643|                               0|\n",
      "|    USA|    adult|         16| 57|Female|2022-08-17 09:41:...|2022-11-30 09:41:...|     321.09|             6|          53.51|                 0.05|               0.01|     Electronics|         6.21|       0.77|                     3|                  105|                    105.0|              0| 502.4622343921152|                        0|182.85024395101067|                                 0|      0|       9.643664448072334|                               0|\n",
      "|    USA|    adult|         17| 41|  Male|2021-06-13 09:41:...|2021-07-29 09:41:...|     172.56|             3|          57.52|                 0.12|                0.0|        Clothing|         3.23|       0.45|                     2|                   46|                     46.0|              0| 502.4622343921152|                        0|182.85024395101067|                                 0|      0|       9.643664448072334|                               0|\n",
      "|    USA|    adult|         18| 20|  Male|2022-10-14 09:41:...|2023-09-09 09:41:...|     127.05|             2|          63.52|                 0.13|                0.0|  Home & Kitchen|         2.27|       0.42|                     1|                  330|                    330.0|              0| 502.4622343921152|                        0|182.85024395101067|                                 0|      0|       9.643664448072334|                               0|\n",
      "|Germany|    adult|         19| 39|  Male|2022-07-16 09:41:...|2022-12-09 09:41:...|    1447.23|            28|          51.69|                 0.05|               0.08|        Clothing|        28.47|        0.1|                     0|                  146|                    146.0|              0|507.84416844971827|                        1|185.58296051351877|                                 0|      0|        9.87305891052502|                               1|\n",
      "|  India|    older|         20| 70|Female|2023-02-11 09:41:...|2024-01-13 09:41:...|     146.82|             2|          73.41|                 0.57|                0.0|     Electronics|         2.47|       0.36|                     6|                  336|                    336.0|              0|502.88953318449217|                        0|184.24639740207022|                                 0|      0|       9.256549678695007|                               0|\n",
      "+-------+---------+-----------+---+------+--------------------+--------------------+-----------+--------------+---------------+---------------------+-------------------+----------------+-------------+-----------+----------------------+---------------------+-------------------------+---------------+------------------+-------------------------+------------------+----------------------------------+-------+------------------------+--------------------------------+\n",
      "only showing top 20 rows\n",
      "\n"
     ]
    }
   ],
   "source": [
    "from pyspark.sql import SparkSession\n",
    "from pyspark.sql.functions import col, datediff, avg, when, count, sum as spark_sum\n",
    "\n",
    "\n",
    "# Check if the DataFrame is loaded correctly\n",
    "df.printSchema()\n",
    "\n",
    "# 1. signup_date - last_login\n",
    "df = df.withColumn(\"days_since_last_login\", datediff(col(\"last_login\"), col(\"signup_date\")))\n",
    "\n",
    "# 2. Age range (older and child)\n",
    "df = df.withColumn(\"age_range\", when(col(\"age\") < 18, \"child\")\n",
    "                              .when(col(\"age\") < 60, \"adult\")\n",
    "                              .otherwise(\"older\"))\n",
    "\n",
    "# 3. Which age range spends more\n",
    "age_range_spend = df.groupBy(\"age_range\").agg(spark_sum(\"total_spent\").alias(\"total_spend_by_age_range\"))\n",
    "\n",
    "# 4. Which age range has more purchase_count\n",
    "age_range_purchase_count = df.groupBy(\"age_range\").agg(spark_sum(\"purchase_count\").alias(\"total_purchase_count_by_age_range\"))\n",
    "\n",
    "# 5. Which age range purchases which thing more frequently\n",
    "age_range_frequent_purchase = df.groupBy(\"age_range\", \"product_category\").agg(count(\"product_category\").alias(\"item_count\")).orderBy(\"age_range\", \"item_count\", ascending=False)\n",
    "\n",
    "# 6. Mark users who exceed their own average (signup_date - last_login)\n",
    "user_avg_days = df.groupBy(\"customer_id\").agg(avg(\"days_since_last_login\").alias(\"avg_days_since_last_login\"))\n",
    "df = df.join(user_avg_days, on=\"customer_id\")\n",
    "df = df.withColumn(\"exceeds_own_avg\", when(col(\"days_since_last_login\") > col(\"avg_days_since_last_login\"), 1).otherwise(0))\n",
    "\n",
    "# 7. Mark users who spend more than their country average\n",
    "country_avg_spend = df.groupBy(\"country\").agg(avg(\"total_spent\").alias(\"avg_country_spend\"))\n",
    "df = df.join(country_avg_spend, on=\"country\")\n",
    "df = df.withColumn(\"exceeds_country_avg_spend\", when(col(\"total_spent\") > col(\"avg_country_spend\"), 1).otherwise(0))\n",
    "\n",
    "# 8. Mark users who exceed country average (signup_date - last_login) and average total spend\n",
    "country_avg_days = df.groupBy(\"country\").agg(avg(\"days_since_last_login\").alias(\"avg_country_days\"))\n",
    "df = df.join(country_avg_days, on=\"country\")\n",
    "df = df.withColumn(\"exceeds_country_avg_days_and_spend\", when((col(\"days_since_last_login\") > col(\"avg_country_days\")) & (col(\"total_spent\") > col(\"avg_country_spend\")), 1).otherwise(0))\n",
    "\n",
    "# 9. Mark rich users (low days_since_last_login, low purchase_count, high total_spent, low discount)\n",
    "df = df.withColumn(\"is_rich\", when((col(\"days_since_last_login\") < 30) & (col(\"purchase_count\") < 10) & (col(\"total_spent\") > 1000) & (col(\"discount_usage_rate\") < 10), 1).otherwise(0))\n",
    "\n",
    "# 10. Mark users who purchase more compared to their country + age range\n",
    "country_age_avg_purchase = df.groupBy(\"country\", \"age_range\").agg(avg(\"purchase_count\").alias(\"avg_country_age_purchase\"))\n",
    "df = df.join(country_age_avg_purchase, on=[\"country\", \"age_range\"])\n",
    "df = df.withColumn(\"exceeds_country_age_avg_purchase\", when(col(\"purchase_count\") > col(\"avg_country_age_purchase\"), 1).otherwise(0))\n",
    "\n",
    "# Show the resulting DataFrame\n",
    "df.show()"
   ]
  },
  {
   "cell_type": "code",
   "execution_count": 1,
   "metadata": {},
   "outputs": [
    {
     "name": "stderr",
     "output_type": "stream",
     "text": [
      "25/03/26 16:09:17 WARN Utils: Your hostname, codespaces-749f79 resolves to a loopback address: 127.0.0.1; using 10.0.3.123 instead (on interface eth0)\n",
      "25/03/26 16:09:17 WARN Utils: Set SPARK_LOCAL_IP if you need to bind to another address\n",
      "Setting default log level to \"WARN\".\n",
      "To adjust logging level use sc.setLogLevel(newLevel). For SparkR, use setLogLevel(newLevel).\n",
      "25/03/26 16:09:18 WARN NativeCodeLoader: Unable to load native-hadoop library for your platform... using builtin-java classes where applicable\n"
     ]
    }
   ],
   "source": [
    "''' \n",
    "1. 3482. Analyze Organization Hierarchy\n",
    "2.1093. Statistics from a Large Sample, \n",
    "3. 2241. Design an ATM Machine, \n",
    "4. 2276. Count Integers in Intervals\n",
    "\n",
    "''' \n",
    "from pyspark.sql import SparkSession\n",
    "\n",
    "# Initialize Spark session\n",
    "spark = SparkSession.builder.appName(\"EmployeeData\").getOrCreate()\n",
    "schema = [\"employee_id\", \"employee_name\", \"manager_id\", \"salary\", \"department\"]\n",
    "\n",
    "# Define the data\n",
    "data = [\n",
    "    (1, \"Alice\", None, 12000, \"Executive\"),\n",
    "    (2, \"Bob\", 1, 10000, \"Sales\"),\n",
    "    (3, \"Charlie\", 1, 10000, \"Engineering\"),\n",
    "    (4, \"David\", 2, 7500, \"Sales\"),\n",
    "    (5, \"Eva\", 2, 7500, \"Sales\"),\n",
    "    (6, \"Frank\", 3, 9000, \"Engineering\"),\n",
    "    (7, \"Grace\", 3, 8500, \"Engineering\"),\n",
    "    (8, \"Hank\", 4, 6000, \"Sales\"),\n",
    "    (9, \"Ivy\", 6, 7000, \"Engineering\"),\n",
    "    (10, \"Judy\", 6, 7000, \"Engineering\")\n",
    "]\n",
    "\n",
    "\n",
    "df = spark.createDataFrame(data, schema)\n"
   ]
  },
  {
   "cell_type": "code",
   "execution_count": 7,
   "metadata": {},
   "outputs": [
    {
     "name": "stdout",
     "output_type": "stream",
     "text": [
      "[0, 0, 0]\n"
     ]
    }
   ],
   "source": [
    "print([0] * 3)"
   ]
  },
  {
   "cell_type": "code",
   "execution_count": 11,
   "metadata": {},
   "outputs": [
    {
     "name": "stdout",
     "output_type": "stream",
     "text": [
      "4\n",
      "3\n",
      "2\n",
      "1\n",
      "0\n"
     ]
    }
   ],
   "source": [
    "for i in range(4,-1,-1): \n",
    "    print(i)"
   ]
  },
  {
   "cell_type": "code",
   "execution_count": null,
   "metadata": {},
   "outputs": [],
   "source": []
  }
 ],
 "metadata": {
  "kernelspec": {
   "display_name": "Python 3",
   "language": "python",
   "name": "python3"
  },
  "language_info": {
   "codemirror_mode": {
    "name": "ipython",
    "version": 3
   },
   "file_extension": ".py",
   "mimetype": "text/x-python",
   "name": "python",
   "nbconvert_exporter": "python",
   "pygments_lexer": "ipython3",
   "version": "3.12.1"
  }
 },
 "nbformat": 4,
 "nbformat_minor": 2
}
