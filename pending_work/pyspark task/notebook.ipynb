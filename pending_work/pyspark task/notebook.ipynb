{
 "cells": [
  {
   "cell_type": "code",
   "execution_count": null,
   "metadata": {},
   "outputs": [
    {
     "name": "stderr",
     "output_type": "stream",
     "text": [
      "25/03/26 04:02:30 WARN WindowExec: No Partition Defined for Window operation! Moving all data to a single partition, this can cause serious performance degradation.\n",
      "25/03/26 04:02:30 WARN WindowExec: No Partition Defined for Window operation! Moving all data to a single partition, this can cause serious performance degradation.\n",
      "25/03/26 04:02:31 WARN WindowExec: No Partition Defined for Window operation! Moving all data to a single partition, this can cause serious performance degradation.\n",
      "25/03/26 04:02:31 WARN WindowExec: No Partition Defined for Window operation! Moving all data to a single partition, this can cause serious performance degradation.\n"
     ]
    },
    {
     "name": "stdout",
     "output_type": "stream",
     "text": [
      "+-------+------------+-------------+------------+\n",
      "|ranking|rank_ranking|lead_function|leg_function|\n",
      "+-------+------------+-------------+------------+\n",
      "|      1|           1|          469|         994|\n",
      "|      2|           2|           20|         462|\n",
      "|      3|           3|          617|         819|\n",
      "|      4|           4|          899|         263|\n",
      "|      5|           5|          231|         643|\n",
      "|      6|           6|          259|         131|\n",
      "|      7|           7|          784|         521|\n",
      "|      8|           8|           69|         999|\n",
      "|      9|           9|          792|         231|\n",
      "|     10|          10|          380|         247|\n",
      "|     11|          11|          496|         577|\n",
      "|     12|          12|           83|         955|\n",
      "|     13|          13|          435|         253|\n",
      "|     14|          14|          969|         287|\n",
      "|     15|          15|          608|         111|\n",
      "|     16|          16|          702|         816|\n",
      "|     17|          17|           72|         426|\n",
      "|     18|          18|           54|         890|\n",
      "|     19|          19|          255|         335|\n",
      "|     20|          19|          230|         703|\n",
      "+-------+------------+-------------+------------+\n",
      "only showing top 20 rows\n",
      "\n"
     ]
    }
   ],
   "source": [
    "from pyspark.sql import SparkSession \n",
    "\n",
    "spark = SparkSession.builder.appName('sql_window').getOrCreate() \n",
    "\n",
    "df = spark.read.csv('/workspaces/machine_learning-projects-/pending_work/pyspark task/small_media_data.csv', header = True,\n",
    "                    inferSchema = True) \n",
    "\n",
    "\n",
    "'''\n",
    "ROW_NUMBER, RANK, LEAD, LAG\n",
    "'''\n",
    "\n",
    "# sql \n",
    "\n",
    "df.createOrReplaceTempView('media_table') \n",
    "\n",
    "spark.sql(\n",
    "    '''\n",
    "        with temp_temp as (\n",
    "            select \n",
    "                row_number() over( partition by media_type order by likes desc ) as ranking, \n",
    "                rank() over(partition by media_type order by likes desc) as rank_ranking , \n",
    "                lead(likes) over ( order by timestamp ) as lead_function , \n",
    "                lag(likes) over( order by timestamp) as leg_function\n",
    "            from media_table \n",
    "        )\n",
    "        \n",
    "        select * from temp_temp ; \n",
    "    \n",
    "    '''\n",
    ").show() \n"
   ]
  },
  {
   "cell_type": "code",
   "execution_count": 6,
   "metadata": {},
   "outputs": [],
   "source": [
    "from pyspark.sql.window import Window \n",
    "from pyspark.sql.functions import  row_number \n",
    "\n",
    "windows = Window.partitionBy(df.user_id).orderBy(df.likes.desc()) \n",
    "df = df.withColumn('ranking', row_number().over(windows) ) \n",
    "\n",
    "\n"
   ]
  },
  {
   "cell_type": "code",
   "execution_count": 12,
   "metadata": {},
   "outputs": [
    {
     "name": "stdout",
     "output_type": "stream",
     "text": [
      "+-------+-------+--------------------+-----+------+--------+----------+-------+------------+\n",
      "|post_id|user_id|           timestamp|likes|shares|comments|media_type|ranking|rank_ranking|\n",
      "+-------+-------+--------------------+-----+------+--------+----------+-------+------------+\n",
      "|    922|      1|2025-03-08 16:57:...|  999|   125|     192|     video|      1|           1|\n",
      "|     94|      1|2025-03-19 15:33:...|  961|    69|      71|      text|      2|           2|\n",
      "|    927|      1|2025-03-12 21:42:...|  941|   495|      24|      text|      3|           3|\n",
      "|     17|      1|2025-03-11 23:20:...|  813|   258|     182|     image|      4|           4|\n",
      "|    655|      1|2025-02-25 20:43:...|  714|   403|      78|     image|      5|           5|\n",
      "|     78|      1|2025-03-07 18:27:...|  604|   341|     135|      text|      6|           6|\n",
      "|      8|      1|2025-03-14 06:45:...|  537|   358|      45|     video|      7|           7|\n",
      "|    954|      1|2025-03-05 21:33:...|  158|    20|     193|      text|      8|           8|\n",
      "|    743|      2|2025-03-25 07:42:...|  777|   377|      92|      text|      1|           1|\n",
      "|    562|      2|2025-03-07 03:07:...|  627|   200|     152|     video|      2|           2|\n",
      "|    882|      2|2025-02-28 18:37:...|   12|   343|     121|      text|      3|           3|\n",
      "|    163|      2|2025-02-28 18:30:...|    1|    60|     273|     video|      4|           4|\n",
      "|    450|      3|2025-02-24 16:17:...|  858|   114|     162|     video|      1|           1|\n",
      "|    400|      3|2025-03-04 19:02:...|  577|   346|     124|     video|      2|           2|\n",
      "|    792|      3|2025-03-03 09:43:...|  496|    48|     187|      text|      3|           3|\n",
      "|    469|      3|2025-03-11 07:40:...|  109|   333|      40|     image|      4|           4|\n",
      "|    198|      4|2025-03-10 23:14:...|  890|   423|      10|     video|      1|           1|\n",
      "|    624|      4|2025-02-27 18:49:...|  743|   267|       6|     image|      2|           2|\n",
      "|    437|      4|2025-03-12 09:59:...|  669|   301|     227|     video|      3|           3|\n",
      "|    363|      4|2025-03-15 18:35:...|  655|   212|      61|      text|      4|           4|\n",
      "+-------+-------+--------------------+-----+------+--------+----------+-------+------------+\n",
      "only showing top 20 rows\n",
      "\n"
     ]
    }
   ],
   "source": [
    "from pyspark.sql.functions import rank , col \n",
    "from pyspark.sql.window import Window \n",
    "\n",
    "\n",
    "windows = Window.partitionBy(col('user_id')).orderBy(col('likes').desc())  \n",
    "df = df.withColumn('rank_ranking', rank().over(windows)) \n",
    "df.show()"
   ]
  },
  {
   "cell_type": "code",
   "execution_count": 19,
   "metadata": {},
   "outputs": [
    {
     "name": "stdout",
     "output_type": "stream",
     "text": [
      "+-------+-------+--------------------+-----+------+--------+----------+-------+------------+----+----+\n",
      "|post_id|user_id|           timestamp|likes|shares|comments|media_type|ranking|rank_ranking|lead| leg|\n",
      "+-------+-------+--------------------+-----+------+--------+----------+-------+------------+----+----+\n",
      "|    922|      1|2025-03-08 16:57:...|  999|   125|     192|     video|      1|           1| 998|NULL|\n",
      "|     94|      1|2025-03-19 15:33:...|  961|    69|      71|      text|      2|           2| 961| 961|\n",
      "|    927|      1|2025-03-12 21:42:...|  941|   495|      24|      text|      3|           3| 940| 941|\n",
      "|     17|      1|2025-03-11 23:20:...|  813|   258|     182|     image|      4|           4| 813| 814|\n",
      "|    655|      1|2025-02-25 20:43:...|  714|   403|      78|     image|      5|           5| 711| 714|\n",
      "|     78|      1|2025-03-07 18:27:...|  604|   341|     135|      text|      6|           6| 601| 606|\n",
      "|      8|      1|2025-03-14 06:45:...|  537|   358|      45|     video|      7|           7| 536| 538|\n",
      "|    954|      1|2025-03-05 21:33:...|  158|    20|     193|      text|      8|           8| 157| 158|\n",
      "|    743|      2|2025-03-25 07:42:...|  777|   377|      92|      text|      1|           1| 776| 777|\n",
      "|    562|      2|2025-03-07 03:07:...|  627|   200|     152|     video|      2|           2| 627| 628|\n",
      "|    882|      2|2025-02-28 18:37:...|   12|   343|     121|      text|      3|           3|  11|  12|\n",
      "|    163|      2|2025-02-28 18:30:...|    1|    60|     273|     video|      4|           4|   0|   2|\n",
      "|    450|      3|2025-02-24 16:17:...|  858|   114|     162|     video|      1|           1| 858| 858|\n",
      "|    400|      3|2025-03-04 19:02:...|  577|   346|     124|     video|      2|           2| 577| 579|\n",
      "|    792|      3|2025-03-03 09:43:...|  496|    48|     187|      text|      3|           3| 493| 496|\n",
      "|    469|      3|2025-03-11 07:40:...|  109|   333|      40|     image|      4|           4| 108| 110|\n",
      "|    198|      4|2025-03-10 23:14:...|  890|   423|      10|     video|      1|           1| 890| 890|\n",
      "|    624|      4|2025-02-27 18:49:...|  743|   267|       6|     image|      2|           2| 742| 743|\n",
      "|    437|      4|2025-03-12 09:59:...|  669|   301|     227|     video|      3|           3| 669| 669|\n",
      "|    363|      4|2025-03-15 18:35:...|  655|   212|      61|      text|      4|           4| 655| 656|\n",
      "+-------+-------+--------------------+-----+------+--------+----------+-------+------------+----+----+\n",
      "only showing top 20 rows\n",
      "\n"
     ]
    },
    {
     "name": "stderr",
     "output_type": "stream",
     "text": [
      "25/03/26 04:00:15 WARN WindowExec: No Partition Defined for Window operation! Moving all data to a single partition, this can cause serious performance degradation.\n",
      "25/03/26 04:00:15 WARN WindowExec: No Partition Defined for Window operation! Moving all data to a single partition, this can cause serious performance degradation.\n",
      "25/03/26 04:00:15 WARN WindowExec: No Partition Defined for Window operation! Moving all data to a single partition, this can cause serious performance degradation.\n",
      "25/03/26 04:00:15 WARN WindowExec: No Partition Defined for Window operation! Moving all data to a single partition, this can cause serious performance degradation.\n"
     ]
    }
   ],
   "source": [
    "from pyspark.sql.functions import  lead , lag, col \n",
    "from pyspark.sql.window import Window \n",
    "\n",
    "windows = Window.orderBy(col('likes').desc()) \n",
    "\n",
    "df = df.withColumn('lead', lead(col('likes')).over(windows)) \n",
    "df = df.withColumn('leg', lag(col('likes')).over(windows)) \n",
    "\n",
    "df.show()"
   ]
  },
  {
   "cell_type": "code",
   "execution_count": null,
   "metadata": {},
   "outputs": [],
   "source": []
  }
 ],
 "metadata": {
  "kernelspec": {
   "display_name": "Python 3",
   "language": "python",
   "name": "python3"
  },
  "language_info": {
   "codemirror_mode": {
    "name": "ipython",
    "version": 3
   },
   "file_extension": ".py",
   "mimetype": "text/x-python",
   "name": "python",
   "nbconvert_exporter": "python",
   "pygments_lexer": "ipython3",
   "version": "3.12.1"
  }
 },
 "nbformat": 4,
 "nbformat_minor": 2
}
